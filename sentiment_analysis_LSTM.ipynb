{
  "cells": [
    {
      "cell_type": "code",
      "execution_count": null,
      "metadata": {
        "colab": {
          "base_uri": "https://localhost:8080/"
        },
        "id": "jjV5WOqTxW4P",
        "outputId": "e3e4e7ed-5e2d-4790-92bc-cf396781403c"
      },
      "outputs": [
        {
          "output_type": "stream",
          "name": "stdout",
          "text": [
            "Drive already mounted at /content/drive; to attempt to forcibly remount, call drive.mount(\"/content/drive\", force_remount=True).\n"
          ]
        }
      ],
      "source": [
        "from google.colab import drive\n",
        "drive.mount(\"/content/drive\")"
      ]
    },
    {
      "cell_type": "markdown",
      "source": [
        "### Importing important python libraries"
      ],
      "metadata": {
        "id": "4Nn2HvUK65Rb"
      }
    },
    {
      "cell_type": "code",
      "execution_count": null,
      "metadata": {
        "id": "fPWawNiuxpx6"
      },
      "outputs": [],
      "source": [
        "import pandas as pd\n",
        "import numpy as np"
      ]
    },
    {
      "cell_type": "markdown",
      "source": [
        "### Reading the data"
      ],
      "metadata": {
        "id": "QIGy3Ka77GOG"
      }
    },
    {
      "cell_type": "code",
      "execution_count": null,
      "metadata": {
        "id": "l-gpIibjxvJQ"
      },
      "outputs": [],
      "source": [
        "df = pd.read_csv('/content/drive/MyDrive/Tweets.csv')"
      ]
    },
    {
      "cell_type": "code",
      "execution_count": null,
      "metadata": {
        "colab": {
          "base_uri": "https://localhost:8080/"
        },
        "id": "2rsd3YQOx0ky",
        "outputId": "766f8d05-f83e-4853-cf4f-fe86732d6180"
      },
      "outputs": [
        {
          "output_type": "execute_result",
          "data": {
            "text/plain": [
              "(14640, 15)"
            ]
          },
          "metadata": {},
          "execution_count": 33
        }
      ],
      "source": [
        "df.shape"
      ]
    },
    {
      "cell_type": "code",
      "execution_count": null,
      "metadata": {
        "colab": {
          "base_uri": "https://localhost:8080/"
        },
        "id": "zxe8m9A_x9IH",
        "outputId": "4dd281a3-a38c-4b0a-8b6e-6d9b69224d89"
      },
      "outputs": [
        {
          "output_type": "execute_result",
          "data": {
            "text/plain": [
              "Index(['tweet_id', 'airline_sentiment', 'airline_sentiment_confidence',\n",
              "       'negativereason', 'negativereason_confidence', 'airline',\n",
              "       'airline_sentiment_gold', 'name', 'negativereason_gold',\n",
              "       'retweet_count', 'text', 'tweet_coord', 'tweet_created',\n",
              "       'tweet_location', 'user_timezone'],\n",
              "      dtype='object')"
            ]
          },
          "metadata": {},
          "execution_count": 34
        }
      ],
      "source": [
        "df.columns"
      ]
    },
    {
      "cell_type": "markdown",
      "source": [
        "### Selecting 'text' and 'airline_sentiment' columns and ignoring the rest"
      ],
      "metadata": {
        "id": "_PWz-G6FUnrk"
      }
    },
    {
      "cell_type": "code",
      "execution_count": null,
      "metadata": {
        "id": "T-e3R9UHyFEI"
      },
      "outputs": [],
      "source": [
        "data = df[['text', 'airline_sentiment']]"
      ]
    },
    {
      "cell_type": "code",
      "execution_count": null,
      "metadata": {
        "colab": {
          "base_uri": "https://localhost:8080/",
          "height": 424
        },
        "id": "Xrv2MCdayaj_",
        "outputId": "13594fdf-4f30-4dbb-fa56-940071fe5087"
      },
      "outputs": [
        {
          "output_type": "execute_result",
          "data": {
            "text/html": [
              "\n",
              "  <div id=\"df-7d67614c-dd0e-4da2-80ef-9bfe01163c17\">\n",
              "    <div class=\"colab-df-container\">\n",
              "      <div>\n",
              "<style scoped>\n",
              "    .dataframe tbody tr th:only-of-type {\n",
              "        vertical-align: middle;\n",
              "    }\n",
              "\n",
              "    .dataframe tbody tr th {\n",
              "        vertical-align: top;\n",
              "    }\n",
              "\n",
              "    .dataframe thead th {\n",
              "        text-align: right;\n",
              "    }\n",
              "</style>\n",
              "<table border=\"1\" class=\"dataframe\">\n",
              "  <thead>\n",
              "    <tr style=\"text-align: right;\">\n",
              "      <th></th>\n",
              "      <th>text</th>\n",
              "      <th>airline_sentiment</th>\n",
              "    </tr>\n",
              "  </thead>\n",
              "  <tbody>\n",
              "    <tr>\n",
              "      <th>0</th>\n",
              "      <td>@VirginAmerica What @dhepburn said.</td>\n",
              "      <td>neutral</td>\n",
              "    </tr>\n",
              "    <tr>\n",
              "      <th>1</th>\n",
              "      <td>@VirginAmerica plus you've added commercials t...</td>\n",
              "      <td>positive</td>\n",
              "    </tr>\n",
              "    <tr>\n",
              "      <th>2</th>\n",
              "      <td>@VirginAmerica I didn't today... Must mean I n...</td>\n",
              "      <td>neutral</td>\n",
              "    </tr>\n",
              "    <tr>\n",
              "      <th>3</th>\n",
              "      <td>@VirginAmerica it's really aggressive to blast...</td>\n",
              "      <td>negative</td>\n",
              "    </tr>\n",
              "    <tr>\n",
              "      <th>4</th>\n",
              "      <td>@VirginAmerica and it's a really big bad thing...</td>\n",
              "      <td>negative</td>\n",
              "    </tr>\n",
              "    <tr>\n",
              "      <th>...</th>\n",
              "      <td>...</td>\n",
              "      <td>...</td>\n",
              "    </tr>\n",
              "    <tr>\n",
              "      <th>14635</th>\n",
              "      <td>@AmericanAir thank you we got on a different f...</td>\n",
              "      <td>positive</td>\n",
              "    </tr>\n",
              "    <tr>\n",
              "      <th>14636</th>\n",
              "      <td>@AmericanAir leaving over 20 minutes Late Flig...</td>\n",
              "      <td>negative</td>\n",
              "    </tr>\n",
              "    <tr>\n",
              "      <th>14637</th>\n",
              "      <td>@AmericanAir Please bring American Airlines to...</td>\n",
              "      <td>neutral</td>\n",
              "    </tr>\n",
              "    <tr>\n",
              "      <th>14638</th>\n",
              "      <td>@AmericanAir you have my money, you change my ...</td>\n",
              "      <td>negative</td>\n",
              "    </tr>\n",
              "    <tr>\n",
              "      <th>14639</th>\n",
              "      <td>@AmericanAir we have 8 ppl so we need 2 know h...</td>\n",
              "      <td>neutral</td>\n",
              "    </tr>\n",
              "  </tbody>\n",
              "</table>\n",
              "<p>14640 rows × 2 columns</p>\n",
              "</div>\n",
              "      <button class=\"colab-df-convert\" onclick=\"convertToInteractive('df-7d67614c-dd0e-4da2-80ef-9bfe01163c17')\"\n",
              "              title=\"Convert this dataframe to an interactive table.\"\n",
              "              style=\"display:none;\">\n",
              "        \n",
              "  <svg xmlns=\"http://www.w3.org/2000/svg\" height=\"24px\"viewBox=\"0 0 24 24\"\n",
              "       width=\"24px\">\n",
              "    <path d=\"M0 0h24v24H0V0z\" fill=\"none\"/>\n",
              "    <path d=\"M18.56 5.44l.94 2.06.94-2.06 2.06-.94-2.06-.94-.94-2.06-.94 2.06-2.06.94zm-11 1L8.5 8.5l.94-2.06 2.06-.94-2.06-.94L8.5 2.5l-.94 2.06-2.06.94zm10 10l.94 2.06.94-2.06 2.06-.94-2.06-.94-.94-2.06-.94 2.06-2.06.94z\"/><path d=\"M17.41 7.96l-1.37-1.37c-.4-.4-.92-.59-1.43-.59-.52 0-1.04.2-1.43.59L10.3 9.45l-7.72 7.72c-.78.78-.78 2.05 0 2.83L4 21.41c.39.39.9.59 1.41.59.51 0 1.02-.2 1.41-.59l7.78-7.78 2.81-2.81c.8-.78.8-2.07 0-2.86zM5.41 20L4 18.59l7.72-7.72 1.47 1.35L5.41 20z\"/>\n",
              "  </svg>\n",
              "      </button>\n",
              "      \n",
              "  <style>\n",
              "    .colab-df-container {\n",
              "      display:flex;\n",
              "      flex-wrap:wrap;\n",
              "      gap: 12px;\n",
              "    }\n",
              "\n",
              "    .colab-df-convert {\n",
              "      background-color: #E8F0FE;\n",
              "      border: none;\n",
              "      border-radius: 50%;\n",
              "      cursor: pointer;\n",
              "      display: none;\n",
              "      fill: #1967D2;\n",
              "      height: 32px;\n",
              "      padding: 0 0 0 0;\n",
              "      width: 32px;\n",
              "    }\n",
              "\n",
              "    .colab-df-convert:hover {\n",
              "      background-color: #E2EBFA;\n",
              "      box-shadow: 0px 1px 2px rgba(60, 64, 67, 0.3), 0px 1px 3px 1px rgba(60, 64, 67, 0.15);\n",
              "      fill: #174EA6;\n",
              "    }\n",
              "\n",
              "    [theme=dark] .colab-df-convert {\n",
              "      background-color: #3B4455;\n",
              "      fill: #D2E3FC;\n",
              "    }\n",
              "\n",
              "    [theme=dark] .colab-df-convert:hover {\n",
              "      background-color: #434B5C;\n",
              "      box-shadow: 0px 1px 3px 1px rgba(0, 0, 0, 0.15);\n",
              "      filter: drop-shadow(0px 1px 2px rgba(0, 0, 0, 0.3));\n",
              "      fill: #FFFFFF;\n",
              "    }\n",
              "  </style>\n",
              "\n",
              "      <script>\n",
              "        const buttonEl =\n",
              "          document.querySelector('#df-7d67614c-dd0e-4da2-80ef-9bfe01163c17 button.colab-df-convert');\n",
              "        buttonEl.style.display =\n",
              "          google.colab.kernel.accessAllowed ? 'block' : 'none';\n",
              "\n",
              "        async function convertToInteractive(key) {\n",
              "          const element = document.querySelector('#df-7d67614c-dd0e-4da2-80ef-9bfe01163c17');\n",
              "          const dataTable =\n",
              "            await google.colab.kernel.invokeFunction('convertToInteractive',\n",
              "                                                     [key], {});\n",
              "          if (!dataTable) return;\n",
              "\n",
              "          const docLinkHtml = 'Like what you see? Visit the ' +\n",
              "            '<a target=\"_blank\" href=https://colab.research.google.com/notebooks/data_table.ipynb>data table notebook</a>'\n",
              "            + ' to learn more about interactive tables.';\n",
              "          element.innerHTML = '';\n",
              "          dataTable['output_type'] = 'display_data';\n",
              "          await google.colab.output.renderOutput(dataTable, element);\n",
              "          const docLink = document.createElement('div');\n",
              "          docLink.innerHTML = docLinkHtml;\n",
              "          element.appendChild(docLink);\n",
              "        }\n",
              "      </script>\n",
              "    </div>\n",
              "  </div>\n",
              "  "
            ],
            "text/plain": [
              "                                                    text airline_sentiment\n",
              "0                    @VirginAmerica What @dhepburn said.           neutral\n",
              "1      @VirginAmerica plus you've added commercials t...          positive\n",
              "2      @VirginAmerica I didn't today... Must mean I n...           neutral\n",
              "3      @VirginAmerica it's really aggressive to blast...          negative\n",
              "4      @VirginAmerica and it's a really big bad thing...          negative\n",
              "...                                                  ...               ...\n",
              "14635  @AmericanAir thank you we got on a different f...          positive\n",
              "14636  @AmericanAir leaving over 20 minutes Late Flig...          negative\n",
              "14637  @AmericanAir Please bring American Airlines to...           neutral\n",
              "14638  @AmericanAir you have my money, you change my ...          negative\n",
              "14639  @AmericanAir we have 8 ppl so we need 2 know h...           neutral\n",
              "\n",
              "[14640 rows x 2 columns]"
            ]
          },
          "metadata": {},
          "execution_count": 36
        }
      ],
      "source": [
        "data"
      ]
    },
    {
      "cell_type": "markdown",
      "source": [
        "### Visualizing the 'negative', 'positive' and 'neutral' data"
      ],
      "metadata": {
        "id": "uwgwnTwvU9nt"
      }
    },
    {
      "cell_type": "code",
      "execution_count": null,
      "metadata": {
        "colab": {
          "base_uri": "https://localhost:8080/"
        },
        "id": "8sVfY0DkybQV",
        "outputId": "4d9c473e-5c3d-4613-f91e-48bcb0913c4d"
      },
      "outputs": [
        {
          "output_type": "execute_result",
          "data": {
            "text/plain": [
              "negative    9178\n",
              "neutral     3099\n",
              "positive    2363\n",
              "Name: airline_sentiment, dtype: int64"
            ]
          },
          "metadata": {},
          "execution_count": 37
        }
      ],
      "source": [
        "data[\"airline_sentiment\"].value_counts()"
      ]
    },
    {
      "cell_type": "code",
      "execution_count": null,
      "metadata": {
        "colab": {
          "base_uri": "https://localhost:8080/",
          "height": 358
        },
        "id": "2u4hpCF7y13a",
        "outputId": "d2433a22-c19f-4536-e1fd-19063353e2b3"
      },
      "outputs": [
        {
          "output_type": "execute_result",
          "data": {
            "text/plain": [
              "<matplotlib.axes._subplots.AxesSubplot at 0x7fe3f0a09650>"
            ]
          },
          "metadata": {},
          "execution_count": 74
        },
        {
          "output_type": "display_data",
          "data": {
            "image/png": "[encoded data removed]",
            "text/plain": [
              "<Figure size 1080x360 with 1 Axes>"
            ]
          },
          "metadata": {
            "needs_background": "light"
          }
        }
      ],
      "source": [
        "data[\"airline_sentiment\"].value_counts().sort_index().plot.bar(figsize=(15,5), rot=30)"
      ]
    },
    {
      "cell_type": "markdown",
      "source": [
        "## Text cleaning"
      ],
      "metadata": {
        "id": "iOe3B1n4VnXl"
      }
    },
    {
      "cell_type": "code",
      "execution_count": null,
      "metadata": {
        "colab": {
          "base_uri": "https://localhost:8080/"
        },
        "id": "XPIlZuxlzWAw",
        "outputId": "6d58ef46-836c-4595-c524-d9187b6d112b"
      },
      "outputs": [
        {
          "output_type": "execute_result",
          "data": {
            "text/plain": [
              "0                      @VirginAmerica What @dhepburn said.\n",
              "1        @VirginAmerica plus you've added commercials t...\n",
              "2        @VirginAmerica I didn't today... Must mean I n...\n",
              "3        @VirginAmerica it's really aggressive to blast...\n",
              "4        @VirginAmerica and it's a really big bad thing...\n",
              "                               ...                        \n",
              "14635    @AmericanAir thank you we got on a different f...\n",
              "14636    @AmericanAir leaving over 20 minutes Late Flig...\n",
              "14637    @AmericanAir Please bring American Airlines to...\n",
              "14638    @AmericanAir you have my money, you change my ...\n",
              "14639    @AmericanAir we have 8 ppl so we need 2 know h...\n",
              "Name: text, Length: 14640, dtype: object"
            ]
          },
          "metadata": {},
          "execution_count": 39
        }
      ],
      "source": [
        "data[\"text\"]"
      ]
    },
    {
      "cell_type": "code",
      "execution_count": null,
      "metadata": {
        "colab": {
          "base_uri": "https://localhost:8080/"
        },
        "id": "x2PpTb7h0LAP",
        "outputId": "f9bb5b87-7d93-4d25-fa57-4d2256064f1e"
      },
      "outputs": [
        {
          "output_type": "execute_result",
          "data": {
            "text/plain": [
              "array(['@VirginAmerica What @dhepburn said.',\n",
              "       \"@VirginAmerica plus you've added commercials to the experience... tacky.\",\n",
              "       \"@VirginAmerica I didn't today... Must mean I need to take another trip!\",\n",
              "       ...,\n",
              "       '@AmericanAir Please bring American Airlines to #BlackBerry10',\n",
              "       \"@AmericanAir you have my money, you change my flight, and don't answer your phones! Any other suggestions so I can make my commitment??\",\n",
              "       '@AmericanAir we have 8 ppl so we need 2 know how many seats are on the next flight. Plz put us on standby for 4 people on the next flight?'],\n",
              "      dtype=object)"
            ]
          },
          "metadata": {},
          "execution_count": 40
        }
      ],
      "source": [
        "data['text'].values"
      ]
    },
    {
      "cell_type": "markdown",
      "source": [
        "### Removing all characters except alphanumeric"
      ],
      "metadata": {
        "id": "sVXNRYtZVyIS"
      }
    },
    {
      "cell_type": "code",
      "execution_count": null,
      "metadata": {
        "colab": {
          "base_uri": "https://localhost:8080/"
        },
        "id": "DnJlaoI926OU",
        "outputId": "36701a92-a763-4de1-9c4d-505ef77b06b1"
      },
      "outputs": [
        {
          "output_type": "stream",
          "name": "stderr",
          "text": [
            "/usr/local/lib/python3.7/dist-packages/ipykernel_launcher.py:2: SettingWithCopyWarning: \n",
            "A value is trying to be set on a copy of a slice from a DataFrame.\n",
            "Try using .loc[row_indexer,col_indexer] = value instead\n",
            "\n",
            "See the caveats in the documentation: https://pandas.pydata.org/pandas-docs/stable/user_guide/indexing.html#returning-a-view-versus-a-copy\n",
            "  \n"
          ]
        }
      ],
      "source": [
        "import re\n",
        "data['text'] = data['text'].apply(lambda x: re.sub('[^a-zA-z0-9\\s]', '', x))"
      ]
    },
    {
      "cell_type": "code",
      "execution_count": null,
      "metadata": {
        "colab": {
          "base_uri": "https://localhost:8080/"
        },
        "id": "_IwDPi5z4Qxk",
        "outputId": "b8e39a61-8ba5-4216-f524-1b740861bb30"
      },
      "outputs": [
        {
          "output_type": "execute_result",
          "data": {
            "text/plain": [
              "0                         VirginAmerica What dhepburn said\n",
              "1        VirginAmerica plus youve added commercials to ...\n",
              "2        VirginAmerica I didnt today Must mean I need t...\n",
              "3        VirginAmerica its really aggressive to blast o...\n",
              "4        VirginAmerica and its a really big bad thing a...\n",
              "                               ...                        \n",
              "14635    AmericanAir thank you we got on a different fl...\n",
              "14636    AmericanAir leaving over 20 minutes Late Fligh...\n",
              "14637    AmericanAir Please bring American Airlines to ...\n",
              "14638    AmericanAir you have my money you change my fl...\n",
              "14639    AmericanAir we have 8 ppl so we need 2 know ho...\n",
              "Name: text, Length: 14640, dtype: object"
            ]
          },
          "metadata": {},
          "execution_count": 42
        }
      ],
      "source": [
        "data['text']"
      ]
    },
    {
      "cell_type": "markdown",
      "source": [
        "### Transforming all text to lower case"
      ],
      "metadata": {
        "id": "scGMztIBV-fI"
      }
    },
    {
      "cell_type": "code",
      "execution_count": null,
      "metadata": {
        "colab": {
          "base_uri": "https://localhost:8080/"
        },
        "id": "eixVgxde4a0o",
        "outputId": "65cd04d8-44f7-4960-c4b4-681ca3d7f593"
      },
      "outputs": [
        {
          "output_type": "execute_result",
          "data": {
            "text/plain": [
              "0                         virginamerica what dhepburn said\n",
              "1        virginamerica plus youve added commercials to ...\n",
              "2        virginamerica i didnt today must mean i need t...\n",
              "3        virginamerica its really aggressive to blast o...\n",
              "4        virginamerica and its a really big bad thing a...\n",
              "                               ...                        \n",
              "14635    americanair thank you we got on a different fl...\n",
              "14636    americanair leaving over 20 minutes late fligh...\n",
              "14637    americanair please bring american airlines to ...\n",
              "14638    americanair you have my money you change my fl...\n",
              "14639    americanair we have 8 ppl so we need 2 know ho...\n",
              "Name: text, Length: 14640, dtype: object"
            ]
          },
          "metadata": {},
          "execution_count": 43
        }
      ],
      "source": [
        "data['text'].apply(lambda x: x.lower())"
      ]
    },
    {
      "cell_type": "markdown",
      "source": [
        "### Tokenizing text"
      ],
      "metadata": {
        "id": "nRFWGA7YWG6r"
      }
    },
    {
      "cell_type": "code",
      "execution_count": null,
      "metadata": {
        "id": "Mk4aZVPJ4j_z"
      },
      "outputs": [],
      "source": [
        "from tensorflow.keras.preprocessing.text import Tokenizer\n",
        "tokenizer = Tokenizer(num_words=5000, split=\" \")\n",
        "tokenizer.fit_on_texts(data['text'].values)"
      ]
    },
    {
      "cell_type": "markdown",
      "source": [
        "### Padding text vector so they have the same length"
      ],
      "metadata": {
        "id": "xOSEoIDrWNcB"
      }
    },
    {
      "cell_type": "code",
      "execution_count": null,
      "metadata": {
        "id": "y6lrIgh25aGw"
      },
      "outputs": [],
      "source": [
        "from keras.preprocessing.sequence import pad_sequences\n",
        "X = tokenizer.texts_to_sequences(data['text'].values)\n",
        "X = pad_sequences(X) "
      ]
    },
    {
      "cell_type": "code",
      "execution_count": null,
      "metadata": {
        "colab": {
          "base_uri": "https://localhost:8080/"
        },
        "id": "NUaFqm7h5lzP",
        "outputId": "ce0af2d6-6da1-47c5-812b-74b39884c26c"
      },
      "outputs": [
        {
          "output_type": "execute_result",
          "data": {
            "text/plain": [
              "array([[   0,    0,    0,    0,    0,    0,    0,    0,    0,    0,    0,\n",
              "           0,    0,    0,    0,    0,    0,    0,    0,    0,    0,    0,\n",
              "           0,    0,    0,    0,    0,    0,    0,    0,   78,   57,  218],\n",
              "       [   0,    0,    0,    0,    0,    0,    0,    0,    0,    0,    0,\n",
              "           0,    0,    0,    0,    0,    0,    0,    0,    0,    0,    0,\n",
              "           0,    0,    0,   78,  540,  541, 1122, 2459,    1,    2,  197],\n",
              "       [   0,    0,    0,    0,    0,    0,    0,    0,    0,    0,    0,\n",
              "           0,    0,    0,    0,    0,    0,    0,    0,    0,    0,   78,\n",
              "           3,  185,   98,  775,  565,    3,   75,    1,  148,  143,  191],\n",
              "       [   0,    0,    0,    0,    0,    0,    0,    0,    0,    0,    0,\n",
              "           0,    0,    0,    0,    0,   78,   64,  132, 3670,    1, 4604,\n",
              "        4605,  981,   15,   21, 3098, 3671,   61,   54,   22,  488, 2723],\n",
              "       [   0,    0,    0,    0,    0,    0,    0,    0,    0,    0,    0,\n",
              "           0,    0,    0,    0,    0,    0,    0,    0,    0,    0,    0,\n",
              "           0,   78,   10,   64,    4,  132,  469,  207,  489,   81,   20]],\n",
              "      dtype=int32)"
            ]
          },
          "metadata": {},
          "execution_count": 64
        }
      ],
      "source": [
        "X[:5]"
      ]
    },
    {
      "cell_type": "markdown",
      "source": [
        "## Building the LSTM model"
      ],
      "metadata": {
        "id": "JKOF9DHMWUVj"
      }
    },
    {
      "cell_type": "code",
      "execution_count": null,
      "metadata": {
        "id": "8MA2hB2Q5rcK"
      },
      "outputs": [],
      "source": [
        "from tensorflow.keras.models import Sequential\n",
        "from tensorflow.keras.layers import LSTM,Dense, Dropout, Embedding "
      ]
    },
    {
      "cell_type": "code",
      "execution_count": null,
      "metadata": {
        "colab": {
          "base_uri": "https://localhost:8080/"
        },
        "id": "mb9N9Nxx6UF5",
        "outputId": "33d6cce6-b7a6-4d9f-d1f6-2be8c2d6e357"
      },
      "outputs": [
        {
          "output_type": "stream",
          "name": "stdout",
          "text": [
            "WARNING:tensorflow:Layer lstm_8 will not use cuDNN kernels since it doesn't meet the criteria. It will use a generic GPU kernel as fallback when running on GPU.\n",
            "WARNING:tensorflow:Layer lstm_9 will not use cuDNN kernels since it doesn't meet the criteria. It will use a generic GPU kernel as fallback when running on GPU.\n",
            "WARNING:tensorflow:Layer lstm_10 will not use cuDNN kernels since it doesn't meet the criteria. It will use a generic GPU kernel as fallback when running on GPU.\n",
            "WARNING:tensorflow:Layer lstm_11 will not use cuDNN kernels since it doesn't meet the criteria. It will use a generic GPU kernel as fallback when running on GPU.\n"
          ]
        }
      ],
      "source": [
        "model = Sequential()\n",
        "model.add(Embedding(5000, 256, input_length=X.shape[1]))\n",
        "model.add(LSTM(256, return_sequences=True, dropout=0.3, recurrent_dropout=0.2))\n",
        "model.add(LSTM(128, return_sequences=True, dropout=0.3, recurrent_dropout=0.2))\n",
        "model.add(LSTM(128, return_sequences=True, dropout=0.3, recurrent_dropout=0.2))\n",
        "model.add(LSTM(128, dropout=0.3, recurrent_dropout=0.2))\n",
        "model.add(Dense(3, activation='softmax'))"
      ]
    },
    {
      "cell_type": "code",
      "execution_count": null,
      "metadata": {
        "colab": {
          "base_uri": "https://localhost:8080/"
        },
        "id": "EiyPnmrg7oTI",
        "outputId": "15476e8d-c5f7-454f-fc21-d225ca7a467d"
      },
      "outputs": [
        {
          "output_type": "stream",
          "name": "stdout",
          "text": [
            "Model: \"sequential_2\"\n",
            "_________________________________________________________________\n",
            " Layer (type)                Output Shape              Param #   \n",
            "=================================================================\n",
            " embedding_2 (Embedding)     (None, 33, 256)           1280000   \n",
            "                                                                 \n",
            " lstm_8 (LSTM)               (None, 33, 256)           525312    \n",
            "                                                                 \n",
            " lstm_9 (LSTM)               (None, 33, 128)           197120    \n",
            "                                                                 \n",
            " lstm_10 (LSTM)              (None, 33, 128)           131584    \n",
            "                                                                 \n",
            " lstm_11 (LSTM)              (None, 128)               131584    \n",
            "                                                                 \n",
            " dense_2 (Dense)             (None, 3)                 387       \n",
            "                                                                 \n",
            "=================================================================\n",
            "Total params: 2,265,987\n",
            "Trainable params: 2,265,987\n",
            "Non-trainable params: 0\n",
            "_________________________________________________________________\n"
          ]
        }
      ],
      "source": [
        "model.compile(loss='categorical_crossentropy', optimizer='adam', metrics=['accuracy'])\n",
        "model.summary()"
      ]
    },
    {
      "cell_type": "markdown",
      "source": [
        "### Converting categorical variable into dummy/indicator variables"
      ],
      "metadata": {
        "id": "KjBHsnDnWc6y"
      }
    },
    {
      "cell_type": "code",
      "execution_count": null,
      "metadata": {
        "colab": {
          "base_uri": "https://localhost:8080/"
        },
        "id": "P3ZTb7L87pMQ",
        "outputId": "e533a7c9-f9ef-45f7-d08c-499a5458cf13"
      },
      "outputs": [
        {
          "output_type": "stream",
          "name": "stdout",
          "text": [
            "neutral [0 1 0]\n",
            "positive [0 0 1]\n",
            "neutral [0 1 0]\n",
            "negative [1 0 0]\n",
            "negative [1 0 0]\n"
          ]
        },
        {
          "output_type": "execute_result",
          "data": {
            "text/plain": [
              "[None, None, None, None, None]"
            ]
          },
          "metadata": {},
          "execution_count": 50
        }
      ],
      "source": [
        "y = pd.get_dummies(data['airline_sentiment']).values\n",
        "[print(data['airline_sentiment'][i], y[i]) for i in range(0,5)]"
      ]
    },
    {
      "cell_type": "markdown",
      "source": [
        "### Splitting the data into training and testing sets"
      ],
      "metadata": {
        "id": "m3NHHMGaWsVT"
      }
    },
    {
      "cell_type": "code",
      "execution_count": null,
      "metadata": {
        "id": "W-MqkX4f85v4"
      },
      "outputs": [],
      "source": [
        "from sklearn.model_selection import train_test_split\n",
        "X_train, X_test, y_train, y_test = train_test_split(X, y, test_size=0.2, random_state=0)"
      ]
    },
    {
      "cell_type": "markdown",
      "source": [
        "## Training the model"
      ],
      "metadata": {
        "id": "ts2RZJ6BWzTT"
      }
    },
    {
      "cell_type": "code",
      "execution_count": null,
      "metadata": {
        "colab": {
          "base_uri": "https://localhost:8080/"
        },
        "id": "IruXw59o9nRH",
        "outputId": "3d6c9fd0-2259-4ce5-b14c-5dda9e80373b"
      },
      "outputs": [
        {
          "output_type": "stream",
          "name": "stdout",
          "text": [
            "Epoch 1/10\n",
            "366/366 [==============================] - 88s 241ms/step - loss: 0.5365 - accuracy: 0.7879\n",
            "Epoch 2/10\n",
            "366/366 [==============================] - 89s 243ms/step - loss: 0.4031 - accuracy: 0.8504\n",
            "Epoch 3/10\n",
            "366/366 [==============================] - 88s 241ms/step - loss: 0.3112 - accuracy: 0.8847\n",
            "Epoch 4/10\n",
            "366/366 [==============================] - 88s 240ms/step - loss: 0.2554 - accuracy: 0.9086\n",
            "Epoch 5/10\n",
            "366/366 [==============================] - 88s 240ms/step - loss: 0.1993 - accuracy: 0.9303\n",
            "Epoch 6/10\n",
            "366/366 [==============================] - 88s 240ms/step - loss: 0.1636 - accuracy: 0.9435\n",
            "Epoch 7/10\n",
            "366/366 [==============================] - 88s 241ms/step - loss: 0.1454 - accuracy: 0.9508\n",
            "Epoch 8/10\n",
            "366/366 [==============================] - 88s 240ms/step - loss: 0.1181 - accuracy: 0.9606\n",
            "Epoch 9/10\n",
            "366/366 [==============================] - 88s 239ms/step - loss: 0.1008 - accuracy: 0.9674\n",
            "Epoch 10/10\n",
            "366/366 [==============================] - 88s 241ms/step - loss: 0.0867 - accuracy: 0.9718\n"
          ]
        }
      ],
      "source": [
        "batch_size = 32\n",
        "epochs = 10\n",
        "\n",
        "history = model.fit(X_train, y_train, epochs=epochs, batch_size=batch_size)"
      ]
    },
    {
      "cell_type": "markdown",
      "source": [
        "### Visualizing the training results"
      ],
      "metadata": {
        "id": "nA2gJFpDW2iI"
      }
    },
    {
      "cell_type": "code",
      "execution_count": null,
      "metadata": {
        "colab": {
          "base_uri": "https://localhost:8080/",
          "height": 265
        },
        "id": "MoMfosiVD0UX",
        "outputId": "2f053c55-03ce-4d34-8c4b-d588da6f119a"
      },
      "outputs": [
        {
          "output_type": "display_data",
          "data": {
            "image/png": "[encoded data removed]",
            "text/plain": [
              "<Figure size 432x288 with 1 Axes>"
            ]
          },
          "metadata": {
            "needs_background": "light"
          }
        }
      ],
      "source": [
        "import matplotlib.pyplot as plt\n",
        "plt.plot(history.history['loss'], label='loss')\n",
        "plt.legend()\n",
        "plt.show()"
      ]
    },
    {
      "cell_type": "code",
      "execution_count": null,
      "metadata": {
        "id": "oLz9g38SD4QU",
        "colab": {
          "base_uri": "https://localhost:8080/",
          "height": 265
        },
        "outputId": "dee3aef7-6389-48a8-d541-759b79e7da57"
      },
      "outputs": [
        {
          "output_type": "display_data",
          "data": {
            "image/png": "[encoded data removed]",
            "text/plain": [
              "<Figure size 432x288 with 1 Axes>"
            ]
          },
          "metadata": {
            "needs_background": "light"
          }
        }
      ],
      "source": [
        "plt.plot(history.history['accuracy'], label='accuracy')\n",
        "plt.legend()\n",
        "plt.show()"
      ]
    },
    {
      "cell_type": "markdown",
      "source": [
        "## Testing the model on the test data"
      ],
      "metadata": {
        "id": "KR2lf0P7W-7n"
      }
    },
    {
      "cell_type": "code",
      "source": [
        "predictions = model.predict(X_test)"
      ],
      "metadata": {
        "id": "cuZ7cuhnU_E3"
      },
      "execution_count": null,
      "outputs": []
    },
    {
      "cell_type": "code",
      "source": [
        "predicted_positive, predicted_neutral, predicted_negative = 0, 0, 0\n",
        "real_positive, real_neutral, real_negative = 0, 0, 0\n",
        "for i, prediction in enumerate(predictions):\n",
        "    if np.argmax(prediction)==2:\n",
        "        predicted_positive += 1\n",
        "    elif np.argmax(prediction)==1:\n",
        "        predicted_neutral += 1\n",
        "    else:\n",
        "        predicted_negative += 1\n",
        "    \n",
        "    if np.argmax(y_test[i])==2:\n",
        "        real_positive += 1\n",
        "    elif np.argmax(y_test[i])==1:    \n",
        "        real_neutral += 1\n",
        "    else:\n",
        "        real_negative +=1\n",
        "\n",
        "print('Positive predictions:', predicted_positive)\n",
        "print('Neutral predictions:', predicted_neutral)\n",
        "print('Negative predictions:', predicted_negative)\n",
        "print('Real positive:', real_positive)\n",
        "print('Real neutral:', real_neutral)\n",
        "print('Real negative:', real_negative)"
      ],
      "metadata": {
        "colab": {
          "base_uri": "https://localhost:8080/"
        },
        "id": "dITE_WN-Vsun",
        "outputId": "3a41225a-ae26-43d2-b7e5-2a1e01126d32"
      },
      "execution_count": null,
      "outputs": [
        {
          "output_type": "stream",
          "name": "stdout",
          "text": [
            "Positive predictions: 465\n",
            "Neutral predictions: 590\n",
            "Negative predictions: 1873\n",
            "Real positive: 444\n",
            "Real neutral: 614\n",
            "Real negative: 1870\n"
          ]
        }
      ]
    }
  ],
  "metadata": {
    "accelerator": "GPU",
    "colab": {
      "name": "sentiment_analysis_LSTM",
      "provenance": [],
      "mount_file_id": "1BlpYVjms5c-v-UObJPtHf7-q8fJiG68K",
      "authorship_tag": "ABX9TyOlYYhJgTX2S2ZbPP8T92dQ"
    },
    "kernelspec": {
      "display_name": "Python 3",
      "name": "python3"
    },
    "language_info": {
      "name": "python"
    }
  },
  "nbformat": 4,
  "nbformat_minor": 0
}